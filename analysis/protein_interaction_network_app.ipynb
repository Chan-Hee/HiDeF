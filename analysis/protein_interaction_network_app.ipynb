{
  "nbformat": 4,
  "nbformat_minor": 0,
  "metadata": {
    "colab": {
      "name": "Dash_App_PPI.ipynb",
      "provenance": [],
      "collapsed_sections": [],
      "toc_visible": true
    },
    "kernelspec": {
      "name": "python3",
      "display_name": "Python 3"
    },
    "language_info": {
      "name": "python"
    }
  },
  "cells": [
    {
      "cell_type": "markdown",
      "source": [
        "[![Open In Colab](https://colab.research.google.com/assets/colab-badge.svg)](https://colab.research.google.com/github/fanzheng10/HiDeF/blob/master/analysis/protein_interaction_network_app.ipynb)\n"
      ],
      "metadata": {
        "id": "3YnO2ttOGZ-V"
      }
    },
    {
      "cell_type": "markdown",
      "source": [
        "# Install dependencies"
      ],
      "metadata": {
        "id": "H_uYNHYNMW0V"
      }
    },
    {
      "cell_type": "code",
      "execution_count": null,
      "metadata": {
        "collapsed": true,
        "id": "SN_bShV47O_o"
      },
      "outputs": [],
      "source": [
        "!pip install dash  &> /dev/null\n",
        "!pip install dash-cytoscape  &> /dev/null\n",
        "!pip install jupyter-dash  &> /dev/null\n",
        "!apt-get -qq install -y graphviz && pip install pydot  &> /dev/null"
      ]
    },
    {
      "cell_type": "code",
      "source": [
        "import os\n",
        "os.chdir('/content/drive/MyDrive/HiDeF')\n",
        "!python setup.py install  &> /dev/null"
      ],
      "metadata": {
        "collapsed": true,
        "id": "FpU1aDSqIeUb"
      },
      "execution_count": null,
      "outputs": []
    },
    {
      "cell_type": "code",
      "source": [
        "import os, sys\n",
        "import pandas as pd\n",
        "import json\n",
        "import networkx as nx"
      ],
      "metadata": {
        "id": "JgdW1Sdb7jy-"
      },
      "execution_count": null,
      "outputs": []
    },
    {
      "cell_type": "code",
      "source": [
        "import dash\n",
        "import dash_cytoscape as cyto\n",
        "from dash import html\n",
        "from jupyter_dash import JupyterDash\n",
        "from dash import dcc\n",
        "from dash.dependencies import Input, Output, State\n",
        "# import jupyter_dash, pydot"
      ],
      "metadata": {
        "id": "bnnX1lt47piy"
      },
      "execution_count": null,
      "outputs": []
    },
    {
      "cell_type": "code",
      "source": [
        "from hidef import *\n",
        "from hidef.dash_utils import *"
      ],
      "metadata": {
        "id": "_4qIGyxZsNU1"
      },
      "execution_count": null,
      "outputs": []
    },
    {
      "cell_type": "markdown",
      "source": [
        "# A simple model"
      ],
      "metadata": {
        "id": "JiZUfd3M7tqA"
      }
    },
    {
      "cell_type": "code",
      "source": [
        "P = ['11111111',\n",
        "  '11111100',\n",
        "  '00001111',\n",
        "  '11100000',\n",
        "  '00110000',\n",
        "  '00001100',\n",
        "  '00000011']\n",
        "\n",
        "wv = weaver.Weaver()\n",
        "H = wv.weave(P, cutoff=1.0)\n",
        "Hv = wv.show()"
      ],
      "metadata": {
        "colab": {
          "base_uri": "https://localhost:8080/",
          "height": 676
        },
        "id": "3V2b26ZmM0xJ",
        "outputId": "0444d880-7538-4114-d4ff-0fa936d7cf41"
      },
      "execution_count": null,
      "outputs": [
        {
          "output_type": "stream",
          "name": "stderr",
          "text": [
            "@> initializing the graph...\n",
            "INFO:hidef:initializing the graph...\n",
            "@> graph initialized in 0.02s\n",
            "DEBUG:hidef:graph initialized in 0.02s\n",
            "@> removing redudant edges...\n",
            "INFO:hidef:removing redudant edges...\n",
            "@> redundant edges removed in 0.00s\n",
            "DEBUG:hidef:redundant edges removed in 0.00s\n",
            "@> attaching terminal nodes to the graph...\n",
            "INFO:hidef:attaching terminal nodes to the graph...\n",
            "@> terminal nodes attached in 0.00s\n",
            "DEBUG:hidef:terminal nodes attached in 0.00s\n",
            "@> propagate terminal node assignments upward in the hierarchy\n",
            "INFO:hidef:propagate terminal node assignments upward in the hierarchy\n",
            "@> terminal nodes propagated in 0.01s\n",
            "DEBUG:hidef:terminal nodes propagated in 0.01s\n",
            "@> finding secondary edges...\n",
            "INFO:hidef:finding secondary edges...\n",
            "@> secondary edges found in 0.01s\n",
            "DEBUG:hidef:secondary edges found in 0.01s\n"
          ]
        },
        {
          "output_type": "display_data",
          "data": {
            "text/plain": [
              "<Figure size 432x288 with 1 Axes>"
            ],
            "image/png": "[encoded data removed]"
          },
          "metadata": {}
        }
      ]
    },
    {
      "cell_type": "markdown",
      "source": [
        "Use dash_cytoscape to create a more dynamic network visualization"
      ],
      "metadata": {
        "id": "X8v2aVk9NU4i"
      }
    },
    {
      "cell_type": "code",
      "source": [
        "app = JupyterDash(__name__)\n",
        "app.layout = html.Div([\n",
        "    cyto.Cytoscape(\n",
        "        id='cytoscape',\n",
        "        elements=hier_digraph_to_dash(H, Hv[1]),\n",
        "        layout={'name': 'breadthfirst',\n",
        "                'roots': '[id = \"0-0\"]'}\n",
        "    )\n",
        "])\n",
        "app.run_server(mode='inline')"
      ],
      "metadata": {
        "colab": {
          "base_uri": "https://localhost:8080/",
          "height": 671
        },
        "id": "RbP-ZdoF2PKK",
        "outputId": "5f72cab4-7299-405b-b1be-ab0e845c484a"
      },
      "execution_count": null,
      "outputs": [
        {
          "output_type": "display_data",
          "data": {
            "text/plain": [
              "<IPython.core.display.Javascript object>"
            ],
            "application/javascript": [
              "(async (port, path, width, height, cache, element) => {\n",
              "    if (!google.colab.kernel.accessAllowed && !cache) {\n",
              "      return;\n",
              "    }\n",
              "    element.appendChild(document.createTextNode(''));\n",
              "    const url = await google.colab.kernel.proxyPort(port, {cache});\n",
              "    const iframe = document.createElement('iframe');\n",
              "    iframe.src = new URL(path, url).toString();\n",
              "    iframe.height = height;\n",
              "    iframe.width = width;\n",
              "    iframe.style.border = 0;\n",
              "    element.appendChild(iframe);\n",
              "  })(8050, \"/\", \"100%\", 650, false, window.element)"
            ]
          },
          "metadata": {}
        }
      ]
    },
    {
      "cell_type": "code",
      "source": [
        "# TODO: this should be a function\n",
        "app = JupyterDash(__name__)\n",
        "app.layout = html.Div([\n",
        "    cyto.Cytoscape(\n",
        "        id='cytoscape',\n",
        "        elements=hier_digraph_to_dash(wv, Hv[1], True),\n",
        "        layout={'name': 'breadthfirst',\n",
        "                'roots': '[id = \"0-0\"]'}\n",
        "    )\n",
        "])\n",
        "app.run_server(mode='inline')"
      ],
      "metadata": {
        "id": "1o5q6KaT2Eei",
        "colab": {
          "base_uri": "https://localhost:8080/",
          "height": 671
        },
        "outputId": "fe3e1800-51ea-4e9d-c754-6a21e567d200"
      },
      "execution_count": null,
      "outputs": [
        {
          "output_type": "display_data",
          "data": {
            "text/plain": [
              "<IPython.core.display.Javascript object>"
            ],
            "application/javascript": [
              "(async (port, path, width, height, cache, element) => {\n",
              "    if (!google.colab.kernel.accessAllowed && !cache) {\n",
              "      return;\n",
              "    }\n",
              "    element.appendChild(document.createTextNode(''));\n",
              "    const url = await google.colab.kernel.proxyPort(port, {cache});\n",
              "    const iframe = document.createElement('iframe');\n",
              "    iframe.src = new URL(path, url).toString();\n",
              "    iframe.height = height;\n",
              "    iframe.width = width;\n",
              "    iframe.style.border = 0;\n",
              "    element.appendChild(iframe);\n",
              "  })(8050, \"/\", \"100%\", 650, false, window.element)"
            ]
          },
          "metadata": {}
        }
      ]
    },
    {
      "cell_type": "markdown",
      "source": [
        "Add a panel to show node data"
      ],
      "metadata": {
        "id": "62RWwH2l91DM"
      }
    },
    {
      "cell_type": "code",
      "source": [
        "app = JupyterDash(__name__)\n",
        "\n",
        "styles = {\n",
        "    'json-output': {\n",
        "        'overflow-y': 'scroll',\n",
        "        'height': 'calc(100% - 25px)',\n",
        "        'border': 'thin lightgrey solid'\n",
        "    },\n",
        "    'tab': {'height': 'calc(98vh - 115px)'}\n",
        "}\n",
        "\n",
        "app.layout = html.Div([\n",
        "  html.Div([\n",
        "      cyto.Cytoscape(\n",
        "          id='cytoscape',\n",
        "          elements=hier_digraph_to_dash(wv, Hv[1], True, True),\n",
        "          layout={'name': 'breadthfirst',\n",
        "                  'roots': '[id = \"0-0\"]'}\n",
        "      )\n",
        "  ]),\n",
        "  html.Div(className='four columns', children=[\n",
        "      dcc.Tab(label='Mouseover Data', children=[\n",
        "          html.Div(style=styles['tab'], children=[\n",
        "              html.P('Node Data JSON:'),\n",
        "              html.Pre(\n",
        "                  id='mouseover-node-data-json-output',\n",
        "                  style=styles['json-output']\n",
        "              )\n",
        "          ])\n",
        "      ]),\n",
        "  ])\n",
        "],style={'display': 'flex', 'flex-direction': 'row'})\n",
        "\n",
        "@app.callback(Output('mouseover-node-data-json-output', 'children'),\n",
        "              [Input('cytoscape', 'tapNodeData')])\n",
        "def displayMouseoverNodeData(data):\n",
        "    return json.dumps(data, indent=2)\n",
        "\n",
        "app.run_server(mode='inline')\n"
      ],
      "metadata": {
        "id": "9ATAryyH7fkp",
        "colab": {
          "base_uri": "https://localhost:8080/",
          "height": 671
        },
        "outputId": "fd2d194b-12d3-4942-d0ae-4293468dd049"
      },
      "execution_count": null,
      "outputs": [
        {
          "output_type": "display_data",
          "data": {
            "text/plain": [
              "<IPython.core.display.Javascript object>"
            ],
            "application/javascript": [
              "(async (port, path, width, height, cache, element) => {\n",
              "    if (!google.colab.kernel.accessAllowed && !cache) {\n",
              "      return;\n",
              "    }\n",
              "    element.appendChild(document.createTextNode(''));\n",
              "    const url = await google.colab.kernel.proxyPort(port, {cache});\n",
              "    const iframe = document.createElement('iframe');\n",
              "    iframe.src = new URL(path, url).toString();\n",
              "    iframe.height = height;\n",
              "    iframe.width = width;\n",
              "    iframe.style.border = 0;\n",
              "    element.appendChild(iframe);\n",
              "  })(8050, \"/\", \"100%\", 650, false, window.element)"
            ]
          },
          "metadata": {}
        }
      ]
    },
    {
      "cell_type": "markdown",
      "source": [
        "# Use a real-world PPI model (BioPlex 2.0)\n"
      ],
      "metadata": {
        "id": "XXDLuSTr5xp7"
      }
    },
    {
      "cell_type": "code",
      "source": [
        "os.chdir('/content/drive/MyDrive/HiDeF/examples')\n",
        "df_net = pd.read_csv('BioPlex.tsv', header=None, sep='\\t')\n",
        "df_net.head()"
      ],
      "metadata": {
        "id": "TPSyThB6r32m",
        "colab": {
          "base_uri": "https://localhost:8080/",
          "height": 206
        },
        "outputId": "5d294cc2-89bb-468d-9045-a70eb8bb87e2"
      },
      "execution_count": null,
      "outputs": [
        {
          "output_type": "execute_result",
          "data": {
            "text/plain": [
              "        0        1\n",
              "0  UBE2Q1    SRPRB\n",
              "1  UBE2Q1    LYPD3\n",
              "2  UBE2Q1  C1QTNF2\n",
              "3  UBE2Q1    C3AR1\n",
              "4  UBE2Q1   TCEAL1"
            ],
            "text/html": [
              "\n",
              "  <div id=\"df-e42e5d72-2a00-4d87-8d37-0f190025057f\">\n",
              "    <div class=\"colab-df-container\">\n",
              "      <div>\n",
              "<style scoped>\n",
              "    .dataframe tbody tr th:only-of-type {\n",
              "        vertical-align: middle;\n",
              "    }\n",
              "\n",
              "    .dataframe tbody tr th {\n",
              "        vertical-align: top;\n",
              "    }\n",
              "\n",
              "    .dataframe thead th {\n",
              "        text-align: right;\n",
              "    }\n",
              "</style>\n",
              "<table border=\"1\" class=\"dataframe\">\n",
              "  <thead>\n",
              "    <tr style=\"text-align: right;\">\n",
              "      <th></th>\n",
              "      <th>0</th>\n",
              "      <th>1</th>\n",
              "    </tr>\n",
              "  </thead>\n",
              "  <tbody>\n",
              "    <tr>\n",
              "      <th>0</th>\n",
              "      <td>UBE2Q1</td>\n",
              "      <td>SRPRB</td>\n",
              "    </tr>\n",
              "    <tr>\n",
              "      <th>1</th>\n",
              "      <td>UBE2Q1</td>\n",
              "      <td>LYPD3</td>\n",
              "    </tr>\n",
              "    <tr>\n",
              "      <th>2</th>\n",
              "      <td>UBE2Q1</td>\n",
              "      <td>C1QTNF2</td>\n",
              "    </tr>\n",
              "    <tr>\n",
              "      <th>3</th>\n",
              "      <td>UBE2Q1</td>\n",
              "      <td>C3AR1</td>\n",
              "    </tr>\n",
              "    <tr>\n",
              "      <th>4</th>\n",
              "      <td>UBE2Q1</td>\n",
              "      <td>TCEAL1</td>\n",
              "    </tr>\n",
              "  </tbody>\n",
              "</table>\n",
              "</div>\n",
              "      <button class=\"colab-df-convert\" onclick=\"convertToInteractive('df-e42e5d72-2a00-4d87-8d37-0f190025057f')\"\n",
              "              title=\"Convert this dataframe to an interactive table.\"\n",
              "              style=\"display:none;\">\n",
              "        \n",
              "  <svg xmlns=\"http://www.w3.org/2000/svg\" height=\"24px\"viewBox=\"0 0 24 24\"\n",
              "       width=\"24px\">\n",
              "    <path d=\"M0 0h24v24H0V0z\" fill=\"none\"/>\n",
              "    <path d=\"M18.56 5.44l.94 2.06.94-2.06 2.06-.94-2.06-.94-.94-2.06-.94 2.06-2.06.94zm-11 1L8.5 8.5l.94-2.06 2.06-.94-2.06-.94L8.5 2.5l-.94 2.06-2.06.94zm10 10l.94 2.06.94-2.06 2.06-.94-2.06-.94-.94-2.06-.94 2.06-2.06.94z\"/><path d=\"M17.41 7.96l-1.37-1.37c-.4-.4-.92-.59-1.43-.59-.52 0-1.04.2-1.43.59L10.3 9.45l-7.72 7.72c-.78.78-.78 2.05 0 2.83L4 21.41c.39.39.9.59 1.41.59.51 0 1.02-.2 1.41-.59l7.78-7.78 2.81-2.81c.8-.78.8-2.07 0-2.86zM5.41 20L4 18.59l7.72-7.72 1.47 1.35L5.41 20z\"/>\n",
              "  </svg>\n",
              "      </button>\n",
              "      \n",
              "  <style>\n",
              "    .colab-df-container {\n",
              "      display:flex;\n",
              "      flex-wrap:wrap;\n",
              "      gap: 12px;\n",
              "    }\n",
              "\n",
              "    .colab-df-convert {\n",
              "      background-color: #E8F0FE;\n",
              "      border: none;\n",
              "      border-radius: 50%;\n",
              "      cursor: pointer;\n",
              "      display: none;\n",
              "      fill: #1967D2;\n",
              "      height: 32px;\n",
              "      padding: 0 0 0 0;\n",
              "      width: 32px;\n",
              "    }\n",
              "\n",
              "    .colab-df-convert:hover {\n",
              "      background-color: #E2EBFA;\n",
              "      box-shadow: 0px 1px 2px rgba(60, 64, 67, 0.3), 0px 1px 3px 1px rgba(60, 64, 67, 0.15);\n",
              "      fill: #174EA6;\n",
              "    }\n",
              "\n",
              "    [theme=dark] .colab-df-convert {\n",
              "      background-color: #3B4455;\n",
              "      fill: #D2E3FC;\n",
              "    }\n",
              "\n",
              "    [theme=dark] .colab-df-convert:hover {\n",
              "      background-color: #434B5C;\n",
              "      box-shadow: 0px 1px 3px 1px rgba(0, 0, 0, 0.15);\n",
              "      filter: drop-shadow(0px 1px 2px rgba(0, 0, 0, 0.3));\n",
              "      fill: #FFFFFF;\n",
              "    }\n",
              "  </style>\n",
              "\n",
              "      <script>\n",
              "        const buttonEl =\n",
              "          document.querySelector('#df-e42e5d72-2a00-4d87-8d37-0f190025057f button.colab-df-convert');\n",
              "        buttonEl.style.display =\n",
              "          google.colab.kernel.accessAllowed ? 'block' : 'none';\n",
              "\n",
              "        async function convertToInteractive(key) {\n",
              "          const element = document.querySelector('#df-e42e5d72-2a00-4d87-8d37-0f190025057f');\n",
              "          const dataTable =\n",
              "            await google.colab.kernel.invokeFunction('convertToInteractive',\n",
              "                                                     [key], {});\n",
              "          if (!dataTable) return;\n",
              "\n",
              "          const docLinkHtml = 'Like what you see? Visit the ' +\n",
              "            '<a target=\"_blank\" href=https://colab.research.google.com/notebooks/data_table.ipynb>data table notebook</a>'\n",
              "            + ' to learn more about interactive tables.';\n",
              "          element.innerHTML = '';\n",
              "          dataTable['output_type'] = 'display_data';\n",
              "          await google.colab.output.renderOutput(dataTable, element);\n",
              "          const docLink = document.createElement('div');\n",
              "          docLink.innerHTML = docLinkHtml;\n",
              "          element.appendChild(docLink);\n",
              "        }\n",
              "      </script>\n",
              "    </div>\n",
              "  </div>\n",
              "  "
            ]
          },
          "metadata": {},
          "execution_count": 6
        }
      ]
    },
    {
      "cell_type": "code",
      "source": [
        "if not os.path.isfile('BioPlex.gml'):\n",
        "  os.system('./test.sh')\n",
        "\n",
        "H_bioplex = nx.read_gml('BioPlex.gml')\n",
        "\n",
        "# this runs HiDeF on BioPlex2.0; takes less than 1min"
      ],
      "metadata": {
        "collapsed": true,
        "id": "MkeDzawx6YoB"
      },
      "execution_count": null,
      "outputs": []
    },
    {
      "cell_type": "markdown",
      "source": [
        "## Main server for PPI hierarchies"
      ],
      "metadata": {
        "id": "36sKqjfgrFIJ"
      }
    },
    {
      "cell_type": "code",
      "source": [
        "H = H_bioplex\n",
        "H_spec_df = get_hier_specs(H)\n",
        "\n",
        "styles = {\n",
        "    'json-output': {\n",
        "        'overflow-y': 'scroll',\n",
        "        'overflow-x': 'scroll',\n",
        "        'height': 'calc(75% - 25px)',\n",
        "        'border': 'thin lightgrey solid'\n",
        "    },\n",
        "    'tab': {'height': 'calc(98vh - 115px)'}\n",
        "}\n",
        "\n",
        "default_stylesheet = [\n",
        "    {\n",
        "        \"selector\": 'node',\n",
        "        'style': {\n",
        "            \"opacity\": 0.9,\n",
        "            \"label\": \"data(label)\",\n",
        "        }\n",
        "    },\n",
        "    {\n",
        "        \"selector\": 'edge',\n",
        "        'style': {\n",
        "            \"line-color\": 'grey',\n",
        "            \"opacity\": 0.3,\n",
        "        }\n",
        "    },\n",
        "]\n",
        "\n",
        "app = JupyterDash(__name__)\n",
        "app.layout = html.Div([\n",
        "  html.Div([\n",
        "    html.H3('The Hierarchical Model'),\n",
        "    cyto.Cytoscape(\n",
        "        id='hier',\n",
        "        elements=hier_digraph_to_dash(H, add_node_data=True),\n",
        "        layout={'name': 'cose'},\n",
        "        stylesheet = default_stylesheet\n",
        "    ) \n",
        "  ], style={'margin-right':'50px', 'margin-left':'10px'}),\n",
        "  html.Div([\n",
        "    html.H3('The Sub-network of the Selected Module'),\n",
        "    cyto.Cytoscape(\n",
        "        id='subnet',\n",
        "        elements=subnet_to_dash(df_net, []),\n",
        "        layout={'name': 'cose'},\n",
        "        stylesheet = default_stylesheet\n",
        "    ) \n",
        "  ], id='subnet-text',style={'margin-right':'50px', 'width':'30%'}),\n",
        "  html.Div(className='four columns',children=[\n",
        "      dcc.Tabs(id='tabs', children=[\n",
        "        dcc.Tab(label='Control Panel', children = [\n",
        "  \n",
        "            html.H4('Highlight by Range of Module Persistence'),\n",
        "            html.Div(children=[\n",
        "                html.P('Min: '),\n",
        "                dcc.Input(id='persistence-min',\n",
        "                          type='number',\n",
        "                          min=H_spec_df['Persistence'].min(),\n",
        "                          max=H_spec_df['Persistence'].max(),\n",
        "                          value=H_spec_df['Persistence'].min(), style={'height':'75%', 'margin-top': '15px', 'margin-left': '5px','margin-right': '5px'}),\n",
        "                html.P('Max: '),\n",
        "                dcc.Input(id='persistence-max',\n",
        "                          type='number',\n",
        "                          min=H_spec_df['Persistence'].min(),\n",
        "                          max=H_spec_df['Persistence'].max(),\n",
        "                          value=H_spec_df['Persistence'].max(), style={'height':'75%', 'margin-top': '15px', 'margin-left': '5px'})\n",
        "\n",
        "              ], style={'display': 'flex'}\n",
        "            ),\n",
        "            \n",
        "            html.H4('Highlight by Range of Module Size'),\n",
        "            html.Div(children=[\n",
        "                html.P('Min: '),\n",
        "                dcc.Input(id='size-min',\n",
        "                          type='number',\n",
        "                          min=H_spec_df['Size'].min(),\n",
        "                          max=H_spec_df['Size'].max(),\n",
        "                          value=H_spec_df['Size'].min(), style={'height':'75%', 'margin-top': '15px', 'margin-left': '5px', 'margin-right': '5px'}),\n",
        "                html.P('Max: '),\n",
        "                dcc.Input(id='size-max',\n",
        "                          type='number',\n",
        "                          min=H_spec_df['Size'].min(),\n",
        "                          max=H_spec_df['Size'].max(),\n",
        "                          value=H_spec_df['Size'].max(), style={'height':'75%', 'margin-top': '15px', 'margin-left': '5px'})\n",
        "                ], style={'display': 'flex'}\n",
        "            ),              \n",
        "\n",
        "            html.H4('Upper Limit of Module Size for Sub-network Visualization'),\n",
        "            dcc.Input(id='max-size-for-subnet',\n",
        "                          type='number',\n",
        "                          min=H_spec_df['Size'].min(),\n",
        "                          max=H_spec_df['Size'].max(),\n",
        "                          value=100, style={'height':'75%'}),\n",
        "\n",
        "            html.H4('Node Size'),\n",
        "            html.Div(children=[\n",
        "                html.P('Hierarchy:'),\n",
        "                dcc.Input(id='nodesize-hier',\n",
        "                          type='number',\n",
        "                          min=1, value=15, \n",
        "                          style={'height':'75%', 'margin-top': '15px', 'margin-left': '5px', 'margin-right': '5px'}),\n",
        "\n",
        "                html.P('Sub-network:'),\n",
        "                dcc.Input(id='nodesize-subnet',\n",
        "                          type='number',\n",
        "                          min=1, value=15, \n",
        "                          style={'height':'75%', 'margin-top': '15px', 'margin-left': '5px', 'margin-right': '5px'}),\n",
        "                ], style={'display': 'flex'}\n",
        "            ),\n",
        "\n",
        "            html.H4('Label Size'),\n",
        "            html.Div(children=[\n",
        "                html.P('Hierarchy:'),\n",
        "                dcc.Input(id='labelsize-hier',\n",
        "                          type='number',\n",
        "                          min=1, value=15, \n",
        "                          style={'height':'75%', 'margin-top': '15px', 'margin-left': '5px', 'margin-right': '5px'}),\n",
        "\n",
        "                html.P('Sub-network:'),\n",
        "                dcc.Input(id='labelsize-subnet',\n",
        "                          type='number',\n",
        "                          min=1, value=10, \n",
        "                          style={'height':'75%', 'margin-top': '15px', 'margin-left': '5px', 'margin-right': '5px'}),\n",
        "                ], style={'display': 'flex'}\n",
        "            )\n",
        "        ]),\n",
        "        dcc.Tab(label='Module Data', children=[\n",
        "          html.Div(style=styles['tab'], children=[\n",
        "              html.P('Selected Module Data JSON:'),\n",
        "              html.Pre(\n",
        "                  id='node-data-json-output',\n",
        "                  style=styles['json-output']\n",
        "              )\n",
        "          ])\n",
        "        ])\n",
        "      ])                                              \n",
        "  ], style={'width': '25%'})\n",
        "\n",
        "],\n",
        "style={'display': 'flex', 'flex-direction': 'row'}\n",
        ")\n",
        "\n",
        "@app.callback(Output('subnet-text', 'children'),\n",
        "              Input('hier', 'tapNodeData'),\n",
        "               Input('max-size-for-subnet', 'value'),\n",
        "              State('subnet-text', 'children'))\n",
        "def update_subnet_elements(data, size_limit, elements): # make the subnet respond to the node selection in the main hierarchy\n",
        "  if data == None:\n",
        "    node_names_new = []\n",
        "    children = [\n",
        "      html.H3('The Sub-network of the Selected Module'),\n",
        "      html.P('Select a node to visualize the sub-network')\n",
        "     ]\n",
        "    return children\n",
        "  else:\n",
        "    node_names_new = data['MemberList'].split()\n",
        "  if len(node_names_new) <= size_limit:\n",
        "      elements = subnet_to_dash(df_net, node_names_new)\n",
        "      children = [\n",
        "        html.H3('The Sub-network of the Selected Module'),\n",
        "        cyto.Cytoscape(\n",
        "            id='subnet',\n",
        "            elements=elements,\n",
        "            layout={'name': 'cose'},\n",
        "            stylesheet = default_stylesheet\n",
        "        )\n",
        "      ]\n",
        "  else:\n",
        "     children = [\n",
        "      html.H3('The Sub-network of the Selected Module'),\n",
        "      html.P('Warning: the selected module is large and rendering its sub-network could be slow. If you want to proceed, increase the \"upper limit of module size\" in the control panel')\n",
        "     ]\n",
        "  return children\n",
        "\n",
        "\n",
        "@app.callback(Output('node-data-json-output', 'children'),\n",
        "              [Input('hier', 'selectedNodeData')])\n",
        "def displayMousetapNodeData(data):\n",
        "  return json.dumps(data, indent=2)\n",
        "\n",
        "\n",
        "@app.callback(Output('hier', 'stylesheet'), # note 'stylesheet' needs to be declared in 'hier'\n",
        "              Input('size-min', 'value'),\n",
        "              Input('size-max', 'value'),\n",
        "              Input('persistence-min', 'value'),\n",
        "              Input('persistence-max', 'value'),\n",
        "              Input('nodesize-hier', 'value'),\n",
        "              Input('labelsize-hier', 'value'),\n",
        "              State('hier', 'stylesheet'))\n",
        "def hier_styles(size_min, size_max, pers_min, pers_max, node_size, label_size, hier_stylesheet):\n",
        "  stylesheet = hier_stylesheet\n",
        "  df_unsel = H_spec_df.loc[(H_spec_df['Persistence'] < pers_min) |\n",
        "                         (H_spec_df['Persistence'] > pers_max) |\n",
        "                         (H_spec_df['Size'] < size_min) | \n",
        "                         (H_spec_df['Size'] > size_max), :]\n",
        "  unsel_nodes = df_unsel.index.tolist()\n",
        "  for node in unsel_nodes:\n",
        "    stylesheet.append({\n",
        "          \"selector\": 'node[id=\"{}\"]'.format(node),\n",
        "          \"style\": {\n",
        "              'background-color': 'grey',\n",
        "              'opacity': 0.3,\n",
        "              'label': \"\"\n",
        "          }\n",
        "    })\n",
        "  stylesheet.append({\n",
        "      \"selector\": \"node\",\n",
        "      \"style\": {\n",
        "          \"font-size\" : label_size,\n",
        "          \"width\" : node_size,\n",
        "          \"height\": node_size\n",
        "      }\n",
        "  })\n",
        "  return stylesheet\n",
        "\n",
        "\n",
        "@app.callback(Output('subnet', 'stylesheet'),\n",
        "              Input('nodesize-subnet', 'value'),\n",
        "              Input('labelsize-subnet', 'value'),\n",
        "              State('subnet', 'stylesheet'))\n",
        "def subnet_styles(node_size, label_size, subnet_stylesheet):\n",
        "  stylesheet = subnet_stylesheet\n",
        "  stylesheet.append({\n",
        "      \"selector\": \"node\",\n",
        "      \"style\": {\n",
        "          \"font-size\" : label_size,\n",
        "          \"width\" : node_size,\n",
        "          \"height\": node_size\n",
        "      }\n",
        "  })\n",
        "  return stylesheet\n",
        "\n",
        "\n",
        "app.run_server()"
      ],
      "metadata": {
        "collapsed": true,
        "id": "y34360AXPYZp",
        "colab": {
          "base_uri": "https://localhost:8080/",
          "height": 52
        },
        "outputId": "724f8d7c-6521-4cb5-8e1a-dd8eb9c7775b"
      },
      "execution_count": null,
      "outputs": [
        {
          "output_type": "stream",
          "name": "stdout",
          "text": [
            "Dash app running on:\n"
          ]
        },
        {
          "output_type": "display_data",
          "data": {
            "text/plain": [
              "<IPython.core.display.Javascript object>"
            ],
            "application/javascript": [
              "(async (port, path, text, element) => {\n",
              "    if (!google.colab.kernel.accessAllowed) {\n",
              "      return;\n",
              "    }\n",
              "    element.appendChild(document.createTextNode(''));\n",
              "    const url = await google.colab.kernel.proxyPort(port);\n",
              "    const anchor = document.createElement('a');\n",
              "    anchor.href = new URL(path, url).toString();\n",
              "    anchor.target = '_blank';\n",
              "    anchor.setAttribute('data-href', url + path);\n",
              "    anchor.textContent = text;\n",
              "    element.appendChild(anchor);\n",
              "  })(8050, \"/\", \"http://127.0.0.1:8050/\", window.element)"
            ]
          },
          "metadata": {}
        }
      ]
    }
  ]
}