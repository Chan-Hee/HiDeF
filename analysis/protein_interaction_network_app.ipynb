{
  "nbformat": 4,
  "nbformat_minor": 0,
  "metadata": {
    "colab": {
      "name": "Dash_App_PPI.ipynb",
      "provenance": [],
      "collapsed_sections": []
    },
    "kernelspec": {
      "name": "python3",
      "display_name": "Python 3"
    },
    "language_info": {
      "name": "python"
    }
  },
  "cells": [
    {
      "cell_type": "markdown",
      "source": [
        "# Install dependencies"
      ],
      "metadata": {
        "id": "H_uYNHYNMW0V"
      }
    },
    {
      "cell_type": "code",
      "execution_count": null,
      "metadata": {
        "collapsed": true,
        "id": "SN_bShV47O_o"
      },
      "outputs": [],
      "source": [
        "!pip install dash  &> /dev/null\n",
        "!pip install dash-cytoscape  &> /dev/null\n",
        "!pip install jupyter-dash  &> /dev/null\n",
        "!apt-get -qq install -y graphviz && pip install pydot  &> /dev/null"
      ]
    },
    {
      "cell_type": "code",
      "source": [
        "!pip install hidef &> /dev/null"
      ],
      "metadata": {
        "collapsed": true,
        "id": "FpU1aDSqIeUb"
      },
      "execution_count": null,
      "outputs": []
    },
    {
      "cell_type": "code",
      "source": [
        "import os, sys\n",
        "import pandas as pd\n",
        "import json\n",
        "import networkx as nx"
      ],
      "metadata": {
        "id": "JgdW1Sdb7jy-"
      },
      "execution_count": null,
      "outputs": []
    },
    {
      "cell_type": "code",
      "source": [
        "import dash\n",
        "import dash_cytoscape as cyto\n",
        "from dash import html\n",
        "from jupyter_dash import JupyterDash\n",
        "from dash import dcc\n",
        "from dash.dependencies import Input, Output, State"
      ],
      "metadata": {
        "id": "bnnX1lt47piy"
      },
      "execution_count": null,
      "outputs": []
    },
    {
      "cell_type": "code",
      "source": [
        "from hidef import *\n",
        "from hidef.dash_utils import *"
      ],
      "metadata": {
        "id": "_4qIGyxZsNU1"
      },
      "execution_count": null,
      "outputs": []
    },
    {
      "cell_type": "markdown",
      "source": [
        "# A simple model"
      ],
      "metadata": {
        "id": "JiZUfd3M7tqA"
      }
    },
    {
      "cell_type": "code",
      "source": [
        "P = ['11111111',\n",
        "  '11111100',\n",
        "  '00001111',\n",
        "  '11100000',\n",
        "  '00110000',\n",
        "  '00001100',\n",
        "  '00000011']\n",
        "\n",
        "wv = weaver.Weaver()\n",
        "H = wv.weave(P, cutoff=1.0)\n",
        "Hv = wv.show()"
      ],
      "metadata": {
        "id": "3V2b26ZmM0xJ"
      },
      "execution_count": null,
      "outputs": []
    },
    {
      "cell_type": "markdown",
      "source": [
        "Use dash_cytoscape to create a more dynamic network visualization"
      ],
      "metadata": {
        "id": "X8v2aVk9NU4i"
      }
    },
    {
      "cell_type": "code",
      "source": [
        "app = JupyterDash(__name__)\n",
        "app.layout = html.Div([\n",
        "    cyto.Cytoscape(\n",
        "        id='cytoscape',\n",
        "        elements=hier_digraph_to_dash(H, Hv[1]),\n",
        "        layout={'name': 'breadthfirst',\n",
        "                'roots': '[id = \"0-0\"]'}\n",
        "    )\n",
        "])\n",
        "app.run_server(mode='inline')"
      ],
      "metadata": {
        "id": "RbP-ZdoF2PKK"
      },
      "execution_count": null,
      "outputs": []
    },
    {
      "cell_type": "code",
      "source": [
        "app = JupyterDash(__name__)\n",
        "app.layout = html.Div([\n",
        "    cyto.Cytoscape(\n",
        "        id='cytoscape',\n",
        "        elements=hier_digraph_to_dash(wv, Hv[1], True),\n",
        "        layout={'name': 'breadthfirst',\n",
        "                'roots': '[id = \"0-0\"]'}\n",
        "    )\n",
        "])\n",
        "app.run_server(mode='inline')"
      ],
      "metadata": {
        "id": "1o5q6KaT2Eei"
      },
      "execution_count": null,
      "outputs": []
    },
    {
      "cell_type": "markdown",
      "source": [
        "Add a panel to show node data"
      ],
      "metadata": {
        "id": "62RWwH2l91DM"
      }
    },
    {
      "cell_type": "code",
      "source": [
        "app = JupyterDash(__name__)\n",
        "\n",
        "styles = {\n",
        "    'json-output': {\n",
        "        'overflow-y': 'scroll',\n",
        "        'height': 'calc(100% - 25px)',\n",
        "        'border': 'thin lightgrey solid'\n",
        "    },\n",
        "    'tab': {'height': 'calc(98vh - 115px)'}\n",
        "}\n",
        "\n",
        "app.layout = html.Div([\n",
        "  html.Div([\n",
        "      cyto.Cytoscape(\n",
        "          id='cytoscape',\n",
        "          elements=hier_digraph_to_dash(wv, Hv[1], True, True),\n",
        "          layout={'name': 'breadthfirst',\n",
        "                  'roots': '[id = \"0-0\"]'}\n",
        "      )\n",
        "  ]),\n",
        "  html.Div(className='four columns', children=[\n",
        "      dcc.Tab(label='Mouseover Data', children=[\n",
        "          html.Div(style=styles['tab'], children=[\n",
        "              html.P('Node Data JSON:'),\n",
        "              html.Pre(\n",
        "                  id='mouseover-node-data-json-output',\n",
        "                  style=styles['json-output']\n",
        "              )\n",
        "          ])\n",
        "      ]),\n",
        "  ])\n",
        "],style={'display': 'flex', 'flex-direction': 'row'})\n",
        "\n",
        "@app.callback(Output('mouseover-node-data-json-output', 'children'),\n",
        "              [Input('cytoscape', 'tapNodeData')])\n",
        "def displayMouseoverNodeData(data):\n",
        "    return json.dumps(data, indent=2)\n",
        "\n",
        "app.run_server(mode='inline')\n"
      ],
      "metadata": {
        "id": "9ATAryyH7fkp"
      },
      "execution_count": null,
      "outputs": []
    },
    {
      "cell_type": "markdown",
      "source": [
        "# A real-world PPI model (BioPlex 2.0)\n"
      ],
      "metadata": {
        "id": "XXDLuSTr5xp7"
      }
    },
    {
      "cell_type": "code",
      "source": [
        "!git clone git@github.com:fanzheng10/HiDeF.git\n",
        "os.chdir('/content/HiDeF/examples')\n",
        "df_net = pd.read_csv('BioPlex.tsv', header=None, sep='\\t')\n",
        "df_net.head()"
      ],
      "metadata": {
        "id": "TPSyThB6r32m"
      },
      "execution_count": null,
      "outputs": []
    },
    {
      "cell_type": "code",
      "source": [
        "if not os.path.isfile('BioPlex.gml'):\n",
        "  os.system('./test.sh')\n",
        "\n",
        "H_bioplex = nx.read_gml('BioPlex.gml')\n",
        "\n",
        "# this runs HiDeF on BioPlex2.0; takes less than 1min"
      ],
      "metadata": {
        "collapsed": true,
        "id": "MkeDzawx6YoB"
      },
      "execution_count": null,
      "outputs": []
    },
    {
      "cell_type": "markdown",
      "source": [
        "## Main server for PPI hierarchies"
      ],
      "metadata": {
        "id": "36sKqjfgrFIJ"
      }
    },
    {
      "cell_type": "code",
      "source": [
        "H = H_bioplex\n",
        "H_spec_df = get_hier_specs(H)\n",
        "\n",
        "styles = {\n",
        "    'json-output': {\n",
        "        'overflow-y': 'scroll',\n",
        "        'overflow-x': 'scroll',\n",
        "        'height': 'calc(75% - 25px)',\n",
        "        'border': 'thin lightgrey solid'\n",
        "    },\n",
        "    'tab': {'height': 'calc(98vh - 115px)'}\n",
        "}\n",
        "\n",
        "default_stylesheet = [\n",
        "    {\n",
        "        \"selector\": 'node',\n",
        "        'style': {\n",
        "            \"opacity\": 0.9,\n",
        "            \"label\": \"data(label)\",\n",
        "        }\n",
        "    },\n",
        "    {\n",
        "        \"selector\": 'edge',\n",
        "        'style': {\n",
        "            \"line-color\": 'grey',\n",
        "            \"opacity\": 0.3,\n",
        "        }\n",
        "    },\n",
        "]\n",
        "\n",
        "app = JupyterDash(__name__)\n",
        "app.layout = html.Div([\n",
        "  html.Div([\n",
        "    html.H3('The Hierarchical Model'),\n",
        "    cyto.Cytoscape(\n",
        "        id='hier',\n",
        "        elements=hier_digraph_to_dash(H, add_node_data=True),\n",
        "        layout={'name': 'cose'},\n",
        "        stylesheet = default_stylesheet\n",
        "    ) \n",
        "  ], style={'margin-right':'50px', 'margin-left':'10px'}),\n",
        "  html.Div([\n",
        "    html.H3('The Sub-network of the Selected Module'),\n",
        "    cyto.Cytoscape(\n",
        "        id='subnet',\n",
        "        elements=subnet_to_dash(df_net, []),\n",
        "        layout={'name': 'cose'},\n",
        "        stylesheet = default_stylesheet\n",
        "    ) \n",
        "  ], id='subnet-text',style={'margin-right':'50px', 'width':'30%'}),\n",
        "  html.Div(className='four columns',children=[\n",
        "      dcc.Tabs(id='tabs', children=[\n",
        "        dcc.Tab(label='Control Panel', children = [\n",
        "  \n",
        "            html.H4('Highlight by Range of Module Persistence'),\n",
        "            html.Div(children=[\n",
        "                html.P('Min: '),\n",
        "                dcc.Input(id='persistence-min',\n",
        "                          type='number',\n",
        "                          min=H_spec_df['Persistence'].min(),\n",
        "                          max=H_spec_df['Persistence'].max(),\n",
        "                          value=H_spec_df['Persistence'].min(), style={'height':'75%', 'margin-top': '15px', 'margin-left': '5px','margin-right': '5px'}),\n",
        "                html.P('Max: '),\n",
        "                dcc.Input(id='persistence-max',\n",
        "                          type='number',\n",
        "                          min=H_spec_df['Persistence'].min(),\n",
        "                          max=H_spec_df['Persistence'].max(),\n",
        "                          value=H_spec_df['Persistence'].max(), style={'height':'75%', 'margin-top': '15px', 'margin-left': '5px'})\n",
        "\n",
        "              ], style={'display': 'flex'}\n",
        "            ),\n",
        "            \n",
        "            html.H4('Highlight by Range of Module Size'),\n",
        "            html.Div(children=[\n",
        "                html.P('Min: '),\n",
        "                dcc.Input(id='size-min',\n",
        "                          type='number',\n",
        "                          min=H_spec_df['Size'].min(),\n",
        "                          max=H_spec_df['Size'].max(),\n",
        "                          value=H_spec_df['Size'].min(), style={'height':'75%', 'margin-top': '15px', 'margin-left': '5px', 'margin-right': '5px'}),\n",
        "                html.P('Max: '),\n",
        "                dcc.Input(id='size-max',\n",
        "                          type='number',\n",
        "                          min=H_spec_df['Size'].min(),\n",
        "                          max=H_spec_df['Size'].max(),\n",
        "                          value=H_spec_df['Size'].max(), style={'height':'75%', 'margin-top': '15px', 'margin-left': '5px'})\n",
        "                ], style={'display': 'flex'}\n",
        "            ),              \n",
        "\n",
        "            html.H4('Upper Limit of Module Size for Sub-network Visualization'),\n",
        "            dcc.Input(id='max-size-for-subnet',\n",
        "                          type='number',\n",
        "                          min=H_spec_df['Size'].min(),\n",
        "                          max=H_spec_df['Size'].max(),\n",
        "                          value=100, style={'height':'75%'}),\n",
        "\n",
        "            html.H4('Node Size'),\n",
        "            html.Div(children=[\n",
        "                html.P('Hierarchy:'),\n",
        "                dcc.Input(id='nodesize-hier',\n",
        "                          type='number',\n",
        "                          min=1, value=15, \n",
        "                          style={'height':'75%', 'margin-top': '15px', 'margin-left': '5px', 'margin-right': '5px'}),\n",
        "\n",
        "                html.P('Sub-network:'),\n",
        "                dcc.Input(id='nodesize-subnet',\n",
        "                          type='number',\n",
        "                          min=1, value=15, \n",
        "                          style={'height':'75%', 'margin-top': '15px', 'margin-left': '5px', 'margin-right': '5px'}),\n",
        "                ], style={'display': 'flex'}\n",
        "            ),\n",
        "\n",
        "            html.H4('Label Size'),\n",
        "            html.Div(children=[\n",
        "                html.P('Hierarchy:'),\n",
        "                dcc.Input(id='labelsize-hier',\n",
        "                          type='number',\n",
        "                          min=1, value=15, \n",
        "                          style={'height':'75%', 'margin-top': '15px', 'margin-left': '5px', 'margin-right': '5px'}),\n",
        "\n",
        "                html.P('Sub-network:'),\n",
        "                dcc.Input(id='labelsize-subnet',\n",
        "                          type='number',\n",
        "                          min=1, value=10, \n",
        "                          style={'height':'75%', 'margin-top': '15px', 'margin-left': '5px', 'margin-right': '5px'}),\n",
        "                ], style={'display': 'flex'}\n",
        "            )\n",
        "        ]),\n",
        "        dcc.Tab(label='Module Data', children=[\n",
        "          html.Div(style=styles['tab'], children=[\n",
        "              html.P('Selected Module Data JSON:'),\n",
        "              html.Pre(\n",
        "                  id='node-data-json-output',\n",
        "                  style=styles['json-output']\n",
        "              )\n",
        "          ])\n",
        "        ])\n",
        "      ])                                              \n",
        "  ], style={'width': '25%'})\n",
        "\n",
        "],\n",
        "style={'display': 'flex', 'flex-direction': 'row'}\n",
        ")\n",
        "\n",
        "@app.callback(Output('subnet-text', 'children'),\n",
        "              Input('hier', 'tapNodeData'),\n",
        "               Input('max-size-for-subnet', 'value'),\n",
        "              State('subnet-text', 'children'))\n",
        "def update_subnet_elements(data, size_limit, elements): # make the subnet respond to the node selection in the main hierarchy\n",
        "  if data == None:\n",
        "    node_names_new = []\n",
        "    children = [\n",
        "      html.H3('The Sub-network of the Selected Module'),\n",
        "      html.P('Select a node to visualize the sub-network')\n",
        "     ]\n",
        "    return children\n",
        "  else:\n",
        "    node_names_new = data['MemberList'].split()\n",
        "  if len(node_names_new) <= size_limit:\n",
        "      elements = subnet_to_dash(df_net, node_names_new)\n",
        "      children = [\n",
        "        html.H3('The Sub-network of the Selected Module'),\n",
        "        cyto.Cytoscape(\n",
        "            id='subnet',\n",
        "            elements=elements,\n",
        "            layout={'name': 'cose'},\n",
        "            stylesheet = default_stylesheet\n",
        "        )\n",
        "      ]\n",
        "  else:\n",
        "     children = [\n",
        "      html.H3('The Sub-network of the Selected Module'),\n",
        "      html.P('Warning: the selected module is large and rendering its sub-network could be slow. If you want to proceed, increase the \"upper limit of module size\" in the control panel')\n",
        "     ]\n",
        "  return children\n",
        "\n",
        "\n",
        "@app.callback(Output('node-data-json-output', 'children'),\n",
        "              [Input('hier', 'selectedNodeData')])\n",
        "def displayMousetapNodeData(data):\n",
        "  return json.dumps(data, indent=2)\n",
        "\n",
        "\n",
        "@app.callback(Output('hier', 'stylesheet'), # note 'stylesheet' needs to be declared in 'hier'\n",
        "              Input('size-min', 'value'),\n",
        "              Input('size-max', 'value'),\n",
        "              Input('persistence-min', 'value'),\n",
        "              Input('persistence-max', 'value'),\n",
        "              Input('nodesize-hier', 'value'),\n",
        "              Input('labelsize-hier', 'value'),\n",
        "              State('hier', 'stylesheet'))\n",
        "def hier_styles(size_min, size_max, pers_min, pers_max, node_size, label_size, hier_stylesheet):\n",
        "  stylesheet = hier_stylesheet\n",
        "  df_unsel = H_spec_df.loc[(H_spec_df['Persistence'] < pers_min) |\n",
        "                         (H_spec_df['Persistence'] > pers_max) |\n",
        "                         (H_spec_df['Size'] < size_min) | \n",
        "                         (H_spec_df['Size'] > size_max), :]\n",
        "  unsel_nodes = df_unsel.index.tolist()\n",
        "  for node in unsel_nodes:\n",
        "    stylesheet.append({\n",
        "          \"selector\": 'node[id=\"{}\"]'.format(node),\n",
        "          \"style\": {\n",
        "              'background-color': 'grey',\n",
        "              'opacity': 0.3,\n",
        "              'label': \"\"\n",
        "          }\n",
        "    })\n",
        "  stylesheet.append({\n",
        "      \"selector\": \"node\",\n",
        "      \"style\": {\n",
        "          \"font-size\" : label_size,\n",
        "          \"width\" : node_size,\n",
        "          \"height\": node_size\n",
        "      }\n",
        "  })\n",
        "  return stylesheet\n",
        "\n",
        "\n",
        "@app.callback(Output('subnet', 'stylesheet'),\n",
        "              Input('nodesize-subnet', 'value'),\n",
        "              Input('labelsize-subnet', 'value'),\n",
        "              State('subnet', 'stylesheet'))\n",
        "def subnet_styles(node_size, label_size, subnet_stylesheet):\n",
        "  stylesheet = subnet_stylesheet\n",
        "  stylesheet.append({\n",
        "      \"selector\": \"node\",\n",
        "      \"style\": {\n",
        "          \"font-size\" : label_size,\n",
        "          \"width\" : node_size,\n",
        "          \"height\": node_size\n",
        "      }\n",
        "  })\n",
        "  return stylesheet\n",
        "\n",
        "\n",
        "app.run_server()"
      ],
      "metadata": {
        "collapsed": true,
        "id": "y34360AXPYZp"
      },
      "execution_count": null,
      "outputs": []
    }
  ]
}