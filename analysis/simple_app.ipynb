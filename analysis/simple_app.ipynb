{
  "nbformat": 4,
  "nbformat_minor": 0,
  "metadata": {
    "colab": {
      "name": "simple_app.ipynb",
      "provenance": [],
      "collapsed_sections": []
    },
    "kernelspec": {
      "name": "python3",
      "display_name": "Python 3"
    },
    "language_info": {
      "name": "python"
    }
  },
  "cells": [
    {
      "cell_type": "markdown",
      "source": [
        "[![Open In Colab](https://colab.research.google.com/assets/colab-badge.svg)](https://colab.research.google.com/github/fanzheng10/HiDeF/blob/master/analysis/simple_app.ipynb)\n"
      ],
      "metadata": {
        "id": "8cLcss8yPYII"
      }
    },
    {
      "cell_type": "markdown",
      "source": [
        "# Install dependencies"
      ],
      "metadata": {
        "id": "H_uYNHYNMW0V"
      }
    },
    {
      "cell_type": "code",
      "execution_count": null,
      "metadata": {
        "collapsed": true,
        "id": "SN_bShV47O_o"
      },
      "outputs": [],
      "source": [
        "!pip install dash  &> /dev/null\n",
        "!pip install dash-cytoscape  &> /dev/null\n",
        "!pip install jupyter-dash  &> /dev/null\n",
        "!apt-get -qq install -y graphviz && pip install pydot  &> /dev/null"
      ]
    },
    {
      "cell_type": "code",
      "source": [
        "!pip install hidef &> /dev/null"
      ],
      "metadata": {
        "id": "5YBNQYQsKD1C"
      },
      "execution_count": null,
      "outputs": []
    },
    {
      "cell_type": "code",
      "source": [
        "import os, sys\n",
        "import pandas as pd\n",
        "import json\n",
        "import networkx as nx"
      ],
      "metadata": {
        "id": "JgdW1Sdb7jy-"
      },
      "execution_count": null,
      "outputs": []
    },
    {
      "cell_type": "code",
      "source": [
        "import dash\n",
        "import dash_cytoscape as cyto\n",
        "from dash import html\n",
        "from jupyter_dash import JupyterDash\n",
        "from dash import dcc\n",
        "from dash.dependencies import Input, Output, State\n"
      ],
      "metadata": {
        "id": "bnnX1lt47piy"
      },
      "execution_count": null,
      "outputs": []
    },
    {
      "cell_type": "code",
      "source": [
        "from hidef import *\n",
        "from hidef.dash_utils import *"
      ],
      "metadata": {
        "id": "_4qIGyxZsNU1"
      },
      "execution_count": null,
      "outputs": []
    },
    {
      "cell_type": "markdown",
      "source": [
        "# A simple model"
      ],
      "metadata": {
        "id": "JiZUfd3M7tqA"
      }
    },
    {
      "cell_type": "code",
      "source": [
        "P = ['11111111',\n",
        "  '11111100',\n",
        "  '00001111',\n",
        "  '11100000',\n",
        "  '00110000',\n",
        "  '00001100',\n",
        "  '00000011']\n",
        "\n",
        "wv = weaver.Weaver()\n",
        "H = wv.weave(P, cutoff=1.0)\n",
        "Hv = wv.show()"
      ],
      "metadata": {
        "id": "3V2b26ZmM0xJ"
      },
      "execution_count": null,
      "outputs": []
    },
    {
      "cell_type": "markdown",
      "source": [
        "Use dash_cytoscape to create a more dynamic network visualization"
      ],
      "metadata": {
        "id": "X8v2aVk9NU4i"
      }
    },
    {
      "cell_type": "code",
      "source": [
        "app = JupyterDash(__name__)\n",
        "app.layout = html.Div([\n",
        "    cyto.Cytoscape(\n",
        "        id='cytoscape',\n",
        "        elements=hier_digraph_to_dash(H, Hv[1]),\n",
        "        layout={'name': 'breadthfirst',\n",
        "                'roots': '[id = \"0-0\"]'}\n",
        "    )\n",
        "])\n",
        "app.run_server(mode='inline')"
      ],
      "metadata": {
        "id": "RbP-ZdoF2PKK"
      },
      "execution_count": null,
      "outputs": []
    },
    {
      "cell_type": "code",
      "source": [
        "# TODO: this should be a function\n",
        "app = JupyterDash(__name__)\n",
        "app.layout = html.Div([\n",
        "    cyto.Cytoscape(\n",
        "        id='cytoscape',\n",
        "        elements=hier_digraph_to_dash(wv, Hv[1], True),\n",
        "        layout={'name': 'breadthfirst',\n",
        "                'roots': '[id = \"0-0\"]'}\n",
        "    )\n",
        "])\n",
        "app.run_server(mode='inline')"
      ],
      "metadata": {
        "id": "1o5q6KaT2Eei"
      },
      "execution_count": null,
      "outputs": []
    },
    {
      "cell_type": "markdown",
      "source": [
        "Add a panel to show node data"
      ],
      "metadata": {
        "id": "62RWwH2l91DM"
      }
    },
    {
      "cell_type": "code",
      "source": [
        "app = JupyterDash(__name__)\n",
        "\n",
        "styles = {\n",
        "    'json-output': {\n",
        "        'overflow-y': 'scroll',\n",
        "        'height': 'calc(100% - 25px)',\n",
        "        'border': 'thin lightgrey solid'\n",
        "    },\n",
        "    'tab': {'height': 'calc(98vh - 115px)'}\n",
        "}\n",
        "\n",
        "app.layout = html.Div([\n",
        "  html.Div([\n",
        "      cyto.Cytoscape(\n",
        "          id='cytoscape',\n",
        "          elements=hier_digraph_to_dash(wv, Hv[1], True, True),\n",
        "          layout={'name': 'breadthfirst',\n",
        "                  'roots': '[id = \"0-0\"]'}\n",
        "      )\n",
        "  ]),\n",
        "  html.Div(className='four columns', children=[\n",
        "      dcc.Tab(label='Mouseover Data', children=[\n",
        "          html.Div(style=styles['tab'], children=[\n",
        "              html.P('Node Data JSON:'),\n",
        "              html.Pre(\n",
        "                  id='mouseover-node-data-json-output',\n",
        "                  style=styles['json-output']\n",
        "              )\n",
        "          ])\n",
        "      ]),\n",
        "  ])\n",
        "],style={'display': 'flex', 'flex-direction': 'row'})\n",
        "\n",
        "@app.callback(Output('mouseover-node-data-json-output', 'children'),\n",
        "              [Input('cytoscape', 'tapNodeData')])\n",
        "def displayMouseoverNodeData(data):\n",
        "    return json.dumps(data, indent=2)\n",
        "\n",
        "app.run_server(mode='inline')\n"
      ],
      "metadata": {
        "id": "9ATAryyH7fkp"
      },
      "execution_count": null,
      "outputs": []
    }
  ]
}
